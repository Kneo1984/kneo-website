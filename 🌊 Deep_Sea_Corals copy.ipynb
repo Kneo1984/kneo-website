{
 "cells": [
  {
   "cell_type": "markdown",
   "id": "b9bfaaba",
   "metadata": {},
   "source": [
    "# 1. Bibliotheken importieren"
   ]
  },
  {
   "cell_type": "code",
   "execution_count": 22,
   "id": "3e94f15b",
   "metadata": {},
   "outputs": [],
   "source": [
    "import pandas as pd\n",
    "import numpy as np\n",
    "import matplotlib.pyplot as plt\n",
    "import seaborn as sns\n",
    "import folium\n",
    "from folium.plugins import MarkerCluster\n",
    "from pptx import Presentation\n",
    "from pptx.util import Inches\n"
   ]
  },
  {
   "cell_type": "markdown",
   "id": "232e5af3",
   "metadata": {},
   "source": [
    "#  2. Daten einlesen"
   ]
  },
  {
   "cell_type": "code",
   "execution_count": 23,
   "id": "245508cc",
   "metadata": {},
   "outputs": [],
   "source": [
    "df = pd.read_csv(\"deep_sea_corals.csv\", low_memory=False, dtype=str)\n"
   ]
  },
  {
   "cell_type": "markdown",
   "id": "36af0a83",
   "metadata": {},
   "source": [
    "# 3. Grundstruktur prüfen"
   ]
  },
  {
   "cell_type": "code",
   "execution_count": 24,
   "id": "1ef9a21f",
   "metadata": {},
   "outputs": [
    {
     "name": "stdout",
     "output_type": "stream",
     "text": [
      "<class 'pandas.core.frame.DataFrame'>\n",
      "RangeIndex: 513373 entries, 0 to 513372\n",
      "Data columns (total 20 columns):\n",
      " #   Column                   Non-Null Count   Dtype \n",
      "---  ------                   --------------   ----- \n",
      " 0   CatalogNumber            513372 non-null  object\n",
      " 1   DataProvider             513372 non-null  object\n",
      " 2   ScientificName           513372 non-null  object\n",
      " 3   VernacularNameCategory   513197 non-null  object\n",
      " 4   TaxonRank                513364 non-null  object\n",
      " 5   Station                  253590 non-null  object\n",
      " 6   ObservationDate          513367 non-null  object\n",
      " 7   latitude                 513373 non-null  object\n",
      " 8   longitude                513373 non-null  object\n",
      " 9   DepthInMeters            513372 non-null  object\n",
      " 10  DepthMethod              496845 non-null  object\n",
      " 11  Locality                 389645 non-null  object\n",
      " 12  LocationAccuracy         484662 non-null  object\n",
      " 13  SurveyID                 306228 non-null  object\n",
      " 14  Repository               496584 non-null  object\n",
      " 15  IdentificationQualifier  488591 non-null  object\n",
      " 16  EventID                  472141 non-null  object\n",
      " 17  SamplingEquipment        485883 non-null  object\n",
      " 18  RecordType               501077 non-null  object\n",
      " 19  SampleID                 402294 non-null  object\n",
      "dtypes: object(20)\n",
      "memory usage: 78.3+ MB\n"
     ]
    },
    {
     "data": {
      "text/plain": [
       "['CatalogNumber',\n",
       " 'DataProvider',\n",
       " 'ScientificName',\n",
       " 'VernacularNameCategory',\n",
       " 'TaxonRank',\n",
       " 'Station',\n",
       " 'ObservationDate',\n",
       " 'latitude',\n",
       " 'longitude',\n",
       " 'DepthInMeters',\n",
       " 'DepthMethod',\n",
       " 'Locality',\n",
       " 'LocationAccuracy',\n",
       " 'SurveyID',\n",
       " 'Repository',\n",
       " 'IdentificationQualifier',\n",
       " 'EventID',\n",
       " 'SamplingEquipment',\n",
       " 'RecordType',\n",
       " 'SampleID']"
      ]
     },
     "execution_count": 24,
     "metadata": {},
     "output_type": "execute_result"
    }
   ],
   "source": [
    "df.shape\n",
    "df.info()\n",
    "df.columns.tolist()\n"
   ]
  },
  {
   "cell_type": "markdown",
   "id": "037e86c2",
   "metadata": {},
   "source": [
    "# 4. Fehlende Werte analysieren & bereinigen"
   ]
  },
  {
   "cell_type": "code",
   "execution_count": 25,
   "metadata": {},
   "outputs": [],
   "source": [
    "missing_counts = df.isnull().sum()\n",
    "missing_percent = (missing_counts / len(df)) * 100\n",
    "\n",
    "df['Station'] = df['Station'].fillna(\"Unknown Station\")\n",
    "df['SurveyID'] = df['SurveyID'].fillna(\"Unknown Survey\")\n",
    "df['Locality'] = df['Locality'].fillna(\"Unspecified\")\n",
    "df['SampleID'] = df['SampleID'].fillna(\"No Sample ID\")\n",
    "df['EventID'] = df['EventID'].fillna(\"No Event\")\n"
   ]
  },
  {
   "cell_type": "markdown",
   "id": "14bd08b6",
   "metadata": {},
   "source": [
    "# 5. Datum verarbeiten"
   ]
  },
  {
   "cell_type": "code",
   "execution_count": 26,
   "metadata": {},
   "outputs": [],
   "source": [
    "df['ObservationDate'] = pd.to_datetime(df['ObservationDate'], errors='coerce')\n"
   ]
  },
  {
   "cell_type": "markdown",
   "id": "834fcf0c",
   "metadata": {},
   "source": [
    "# 6. Koordinaten umwandeln"
   ]
  },
  {
   "cell_type": "code",
   "execution_count": 27,
   "id": "df91b9bc",
   "metadata": {},
   "outputs": [],
   "source": [
    "df['latitude'] = pd.to_numeric(df['latitude'], errors='coerce')\n",
    "df['longitude'] = pd.to_numeric(df['longitude'], errors='coerce')\n"
   ]
  },
  {
   "cell_type": "markdown",
   "id": "da78c7de",
   "metadata": {},
   "source": [
    "# 7. Tiefenwerte verarbeiten"
   ]
  },
  {
   "cell_type": "code",
   "execution_count": 28,
   "metadata": {},
   "outputs": [
    {
     "data": {
      "application/vnd.microsoft.datawrangler.viewer.v0+json": {
       "columns": [
        {
         "name": "index",
         "rawType": "object",
         "type": "string"
        },
        {
         "name": "DepthInMeters",
         "rawType": "float64",
         "type": "float"
        }
       ],
       "ref": "36cad0b7-8bf4-4040-93fd-1581a2060adf",
       "rows": [
        [
         "count",
         "509375.0"
        ],
        [
         "unique",
         "4073.0"
        ],
        [
         "top",
         "113.0"
        ],
        [
         "freq",
         "5312.0"
        ]
       ],
       "shape": {
        "columns": 1,
        "rows": 4
       }
      },
      "text/plain": [
       "count     509375.0\n",
       "unique      4073.0\n",
       "top          113.0\n",
       "freq        5312.0\n",
       "Name: DepthInMeters, dtype: float64"
      ]
     },
     "execution_count": 28,
     "metadata": {},
     "output_type": "execute_result"
    }
   ],
   "source": [
    "df['DepthInMeters'] = pd.to_numeric(df['DepthInMeters'], errors='coerce')\n",
    "df['DepthInMeters'] = df['DepthInMeters'].replace(-999.0, pd.NA)\n",
    "df['DepthInMeters'].describe()\n"
   ]
  },
  {
   "cell_type": "markdown",
   "id": "d9b90434",
   "metadata": {},
   "source": [
    "# 8. Nicht relevante Spalten entfernen"
   ]
  },
  {
   "cell_type": "code",
   "execution_count": 29,
   "id": "fb325702",
   "metadata": {},
   "outputs": [],
   "source": [
    "df.drop(columns=['SampleID', 'CatalogNumber'], inplace=True)\n"
   ]
  },
  {
   "cell_type": "markdown",
   "id": "9ab27fe3",
   "metadata": {},
   "source": [
    "# 9. Textspalten bereinigen"
   ]
  },
  {
   "cell_type": "code",
   "execution_count": 30,
   "id": "482eac55",
   "metadata": {},
   "outputs": [],
   "source": [
    "text_columns = df.select_dtypes(include='object').columns\n",
    "for col in text_columns:\n",
    "    df[col] = df[col].apply(lambda x: x.strip() if isinstance(x, str) else x)\n"
   ]
  },
  {
   "cell_type": "markdown",
   "id": "07e5ecf0",
   "metadata": {},
   "source": [
    "# 10. Zeilen mit zu vielen fehlenden Werten entfernen"
   ]
  },
  {
   "cell_type": "code",
   "execution_count": 31,
   "id": "322060e5",
   "metadata": {},
   "outputs": [],
   "source": [
    "df.dropna(thresh=10, inplace=True)\n"
   ]
  },
  {
   "cell_type": "markdown",
   "id": "b770668b",
   "metadata": {},
   "source": [
    "#  11. Zeitdimension ableiten"
   ]
  },
  {
   "cell_type": "code",
   "execution_count": 32,
   "id": "64084d5d",
   "metadata": {},
   "outputs": [],
   "source": [
    "df['Year'] = df['ObservationDate'].dt.year\n",
    "df['Month'] = df['ObservationDate'].dt.month\n",
    "df['Decade'] = (df['Year'] // 10) * 10\n"
   ]
  },
  {
   "cell_type": "markdown",
   "id": "6b42d504",
   "metadata": {},
   "source": [
    "# 12. Tiefenzonen klassifizieren"
   ]
  },
  {
   "cell_type": "code",
   "execution_count": 33,
   "id": "8d15eaba",
   "metadata": {},
   "outputs": [],
   "source": [
    "\n",
    "\n",
    "# Schritt 1: Stelle sicher, dass die Tiefe numerisch ist\n",
    "df['DepthInMeters'] = pd.to_numeric(df['DepthInMeters'], errors='coerce')\n",
    "\n",
    "# Schritt 2: Binning definieren\n",
    "bins = [0, 100, 500, 1000, 3000, 6000, 11000]\n",
    "labels = ['0–100 m', '100–500 m', '500–1000 m', '1000–3000 m', '3000–6000 m', '6000–11000 m']\n",
    "\n",
    "# Schritt 3: Spalte sicher erstellen\n",
    "df['DepthZone'] = pd.cut(df['DepthInMeters'], bins=bins, labels=labels, right=False)\n"
   ]
  },
  {
   "cell_type": "code",
   "execution_count": 34,
   "id": "58201304",
   "metadata": {},
   "outputs": [
    {
     "name": "stdout",
     "output_type": "stream",
     "text": [
      "['DataProvider', 'ScientificName', 'VernacularNameCategory', 'TaxonRank', 'Station', 'ObservationDate', 'latitude', 'longitude', 'DepthInMeters', 'DepthMethod', 'Locality', 'LocationAccuracy', 'SurveyID', 'Repository', 'IdentificationQualifier', 'EventID', 'SamplingEquipment', 'RecordType', 'Year', 'Month', 'Decade', 'DepthZone']\n"
     ]
    }
   ],
   "source": [
    "print(df.columns.tolist())\n"
   ]
  },
  {
   "cell_type": "markdown",
   "id": "031c460e",
   "metadata": {},
   "source": [
    "# 13. Arten analysieren"
   ]
  },
  {
   "cell_type": "code",
   "execution_count": 35,
   "id": "92d9df10",
   "metadata": {},
   "outputs": [
    {
     "data": {
      "application/vnd.microsoft.datawrangler.viewer.v0+json": {
       "columns": [
        {
         "name": "ScientificName",
         "rawType": "object",
         "type": "string"
        },
        {
         "name": "count",
         "rawType": "int64",
         "type": "integer"
        }
       ],
       "ref": "6ff0f949-3262-42de-8afd-e4187a0a8d85",
       "rows": [
        [
         "Porifera",
         "77066"
        ],
        [
         "Heteropolypus ritteri",
         "21447"
        ],
        [
         "Lophelia pertusa",
         "20304"
        ],
        [
         "Pennatulacea",
         "17672"
        ],
        [
         "Stylaster sp.",
         "14595"
        ],
        [
         "Hexactinellida",
         "10438"
        ],
        [
         "Gorgonacea",
         "9856"
        ],
        [
         "Paragorgia sp.",
         "9416"
        ],
        [
         "Farrea occa",
         "7979"
        ],
        [
         "Funiculina sp.",
         "7389"
        ]
       ],
       "shape": {
        "columns": 1,
        "rows": 10
       }
      },
      "text/plain": [
       "ScientificName\n",
       "Porifera                 77066\n",
       "Heteropolypus ritteri    21447\n",
       "Lophelia pertusa         20304\n",
       "Pennatulacea             17672\n",
       "Stylaster sp.            14595\n",
       "Hexactinellida           10438\n",
       "Gorgonacea                9856\n",
       "Paragorgia sp.            9416\n",
       "Farrea occa               7979\n",
       "Funiculina sp.            7389\n",
       "Name: count, dtype: int64"
      ]
     },
     "execution_count": 35,
     "metadata": {},
     "output_type": "execute_result"
    }
   ],
   "source": [
    "df['ScientificName'].nunique()\n",
    "df['ScientificName'].value_counts().head(10)\n"
   ]
  },
  {
   "cell_type": "markdown",
   "id": "6e53d8be",
   "metadata": {},
   "source": [
    "# 14. Geografische Verteilung"
   ]
  },
  {
   "cell_type": "code",
   "execution_count": 36,
   "id": "23e615d6",
   "metadata": {},
   "outputs": [],
   "source": [
    "df['Locality'].value_counts().head(10)\n",
    "lat_range = (df['latitude'].min(), df['latitude'].max())\n",
    "lon_range = (df['longitude'].min(), df['longitude'].max())\n"
   ]
  },
  {
   "cell_type": "markdown",
   "id": "e6372f54",
   "metadata": {},
   "source": [
    "# 15. Visualisierungen"
   ]
  },
  {
   "cell_type": "code",
   "execution_count": 37,
   "id": "78612a8c",
   "metadata": {},
   "outputs": [],
   "source": [
    "yearly_counts = df['Year'].value_counts().sort_index()\n",
    "plt.figure()\n",
    "plt.plot(yearly_counts.index, yearly_counts.values, marker='o')\n",
    "plt.title(\"Beobachtungen pro Jahr\")\n",
    "plt.xlabel(\"Jahr\")\n",
    "plt.ylabel(\"Anzahl\")\n",
    "plt.grid(True)\n",
    "plt.tight_layout()\n",
    "plt.savefig(\"01_beobachtungen_pro_jahr.png\")\n",
    "plt.close()\n"
   ]
  },
  {
   "cell_type": "markdown",
   "id": "515d7f46",
   "metadata": {},
   "source": [
    "# Tiefenzonen-Verteilung"
   ]
  },
  {
   "cell_type": "code",
   "execution_count": 38,
   "id": "247259a8",
   "metadata": {},
   "outputs": [
    {
     "data": {
      "image/png": "[encoded data removed]",
      "text/plain": [
       "<Figure size 1000x500 with 1 Axes>"
      ]
     },
     "metadata": {},
     "output_type": "display_data"
    }
   ],
   "source": [
    "import matplotlib.pyplot as plt\n",
    "\n",
    "# Zähle Vorkommen pro Zone\n",
    "depth_zone_counts = df['DepthZone'].value_counts(dropna=False).sort_index()\n",
    "\n",
    "# Balkendiagramm\n",
    "plt.figure(figsize=(10, 5))\n",
    "depth_zone_counts.plot(kind='bar', color='steelblue')\n",
    "plt.title(\"Verteilung der Beobachtungen nach Meerestiefenzonen\")\n",
    "plt.xlabel(\"Tiefenzone\")\n",
    "plt.ylabel(\"Anzahl Beobachtungen\")\n",
    "plt.xticks(rotation=45)\n",
    "plt.grid(axis='y')\n",
    "plt.tight_layout()\n",
    "plt.show()\n"
   ]
  },
  {
   "cell_type": "markdown",
   "id": "e634f8df",
   "metadata": {},
   "source": [
    "#  Top 10 Arten"
   ]
  },
  {
   "cell_type": "code",
   "execution_count": 39,
   "id": "a98f8de7",
   "metadata": {},
   "outputs": [],
   "source": [
    "top_10_species = df['ScientificName'].value_counts().head(10)\n",
    "plt.figure()\n",
    "top_10_species.plot(kind='barh', color='steelblue')\n",
    "plt.title(\"Top 10 Arten\")\n",
    "plt.xlabel(\"Beobachtungen\")\n",
    "plt.gca().invert_yaxis()\n",
    "plt.tight_layout()\n",
    "plt.savefig(\"03_top_10_arten.png\")\n",
    "plt.close()\n"
   ]
  },
  {
   "cell_type": "markdown",
   "id": "35e9c5c0",
   "metadata": {},
   "source": [
    "# Scatterplot – Tiefe vs. Art (Top 20)"
   ]
  },
  {
   "cell_type": "code",
   "execution_count": 40,
   "id": "be248483",
   "metadata": {},
   "outputs": [],
   "source": [
    "top_20 = df['ScientificName'].value_counts().head(20).index\n",
    "df_top = df[df['ScientificName'].isin(top_20)]\n",
    "\n",
    "plt.figure(figsize=(12, 6))\n",
    "sns.stripplot(data=df_top, x='DepthInMeters', y='ScientificName', alpha=0.4, jitter=True)\n",
    "plt.title(\"Top 20 Arten nach Tiefe (Scatter)\")\n",
    "plt.tight_layout()\n",
    "plt.savefig(\"04_top20_scatter.png\")\n",
    "plt.close()\n"
   ]
  },
  {
   "cell_type": "markdown",
   "id": "3e0739b8",
   "metadata": {},
   "source": [
    "# Boxplot – Tiefe nach Art (Top 20)"
   ]
  },
  {
   "cell_type": "code",
   "execution_count": 41,
   "id": "36c6300a",
   "metadata": {},
   "outputs": [],
   "source": [
    "plt.figure(figsize=(12, 8))\n",
    "sns.boxplot(data=df_top, y='ScientificName', x='DepthInMeters', hue='ScientificName', palette='Blues', dodge=False, legend=False)\n",
    "plt.title(\"Verteilung der Tiefe – Top 20 Arten (Boxplot)\")\n",
    "plt.tight_layout()\n",
    "plt.savefig(\"05_top20_boxplot.png\")\n",
    "plt.close()\n"
   ]
  },
  {
   "cell_type": "markdown",
   "id": "20693de4",
   "metadata": {},
   "source": [
    "# 16. Interaktive Karte mit Folium"
   ]
  },
  {
   "cell_type": "code",
   "execution_count": 42,
   "id": "095a6b50",
   "metadata": {},
   "outputs": [],
   "source": [
    "m = folium.Map(location=[0, 0], zoom_start=2)\n",
    "marker_cluster = MarkerCluster().add_to(m)\n",
    "\n",
    "sample_df = df[['latitude', 'longitude', 'ScientificName']].dropna().sample(n=1000, random_state=42)\n",
    "for _, row in sample_df.iterrows():\n",
    "    folium.Marker(location=[row['latitude'], row['longitude']], popup=row['ScientificName']).add_to(marker_cluster)\n",
    "\n",
    "m.save(\"deep_sea_map.html\")\n"
   ]
  },
  {
   "cell_type": "markdown",
   "id": "dc33ee88",
   "metadata": {},
   "source": [
    "# 17. Automatisierte PowerPoint-Erstellung"
   ]
  },
  {
   "cell_type": "code",
   "execution_count": 43,
   "id": "f6470061",
   "metadata": {},
   "outputs": [],
   "source": [
    "#prs = Presentation()\n",
    "\n",
    "#slide = prs.slides.add_slide(prs.slide_layouts[0])\n",
    "#slide.shapes.title.text = \"Deep Sea Corals – Datenanalyse\"\n",
    "#slide.placeholders[1].text = \"Dennis Maier – Abschlussprojekt 2025\"\n",
    "\n",
    "#def add_visual_slide(title, img_path):\n",
    "    #slide = prs.slides.add_slide(prs.slide_layouts[5])\n",
    "    #slide.shapes.title.text = title\n",
    "    #slide.shapes.add_picture(img_path, Inches(0.8), Inches(1.2), width=Inches(8.2))\n",
    "\n",
    "#add_visual_slide(\"Beobachtungen pro Jahr\", \"01_beobachtungen_pro_jahr.png\")\n",
    "#add_visual_slide(\"Tiefenzonen\", \"02_tiefenzonen.png\")\n",
    "#add_visual_slide(\"Top 10 Arten\", \"03_top_10_arten.png\")\n",
    "#add_visual_slide(\"Scatterplot\", \"04_top20_scatter.png\")\n",
    "#add_visual_slide(\"Boxplot\", \"05_top20_boxplot.png\")\n",
    "\n",
    "#prs.save(\"DeepSea_Praesentation_DennisMaier_FINAL.pptx\")\n"
   ]
  },
  {
   "cell_type": "markdown",
   "id": "a65d9add",
   "metadata": {},
   "source": [
    "# upload_to_mysql_corals.py"
   ]
  },
  {
   "cell_type": "code",
   "execution_count": 44,
   "id": "af15d872",
   "metadata": {},
   "outputs": [],
   "source": [
    "# upload_to_mysql_corals.py\n",
    "\n",
    "#import pandas as pd\n",
    "#from sqlalchemy import create_engine\n",
    "#from sqlalchemy.exc import SQLAlchemyError\n",
    "#import os\n",
    "\n",
    "# === KONFIGURATION ===\n",
    "#db_user = \"root\"\n",
    "#db_password = \"\"  #  Achtung: Bei produktiven Projekten nicht hartkodieren!\n",
    "#db_host = \"localhost\"\n",
    "#db_name = \"abschlussprojekt\"\n",
    "#table_name = \"corals\"\n",
    "\n",
    "# === CSV-PFAD ===\n",
    "#csv_path = r\"C:\\Users\\denni\\OneDrive\\Dokumente\\Abschlußprojekt\\deep_sea_corals.csv\"\n",
    "\n",
    "# === PRÜFUNG ===\n",
    "#if not os.path.isfile(csv_path):\n",
    "    #raise FileNotFoundError(f\" CSV-Datei nicht gefunden unter: {csv_path}\")\n",
    "\n",
    "# === VERBINDUNG AUFBAUEN ===\n",
    "#engine = create_engine(\n",
    "    #f\"mysql+mysqlconnector://{db_user}:{db_password}@{db_host}/{db_name}\"\n",
    "#)\n",
    "\n",
    "# === DATEN EINLESEN ===\n",
    "#try:\n",
    "    #df = pd.read_csv(csv_path, encoding=\"utf-8\", low_memory=False)\n",
    "    #print(f\" CSV geladen: {df.shape[0]} Zeilen, {df.shape[1]} Spalten\")\n",
    "\n",
    "    # === IN MYSQL ÜBERTRAGEN ===\n",
    "    #df.to_sql(\n",
    "        #name=table_name,\n",
    "        #con=engine,\n",
    "        #if_exists=\"replace\",  # Alternativ: 'append'\n",
    "        #index=False,\n",
    "        #chunksize=1000        # in 1000er-Blöcken für große Daten\n",
    "    #)\n",
    "\n",
    "    #print(\" Daten erfolgreich in die Datenbank geladen.\")\n",
    "\n",
    "#except SQLAlchemyError as e:\n",
    "    #print(\" Fehler beim SQL-Upload:\", str(e))\n",
    "\n",
    "#except Exception as e:\n",
    "    #print(\" Allgemeiner Fehler:\", str(e))\n"
   ]
  }
 ],
 "metadata": {
  "kernelspec": {
   "display_name": "Python 3",
   "language": "python",
   "name": "python3"
  },
  "language_info": {
   "codemirror_mode": {
    "name": "ipython",
    "version": 3
   },
   "file_extension": ".py",
   "mimetype": "text/x-python",
   "name": "python",
   "nbconvert_exporter": "python",
   "pygments_lexer": "ipython3",
   "version": "3.12.10"
  }
 },
 "nbformat": 4,
 "nbformat_minor": 5
}
